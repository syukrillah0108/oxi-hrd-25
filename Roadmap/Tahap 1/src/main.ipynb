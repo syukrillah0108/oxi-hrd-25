{
 "cells": [
  {
   "cell_type": "markdown",
   "metadata": {},
   "source": [
    "Tabel Kode Warna Resistor\n",
    "\n",
    "| Warna     | Digit | Pengali         | Toleransi  |\n",
    "|-----------|-------|-----------------|------------|\n",
    "| Hitam     | 0     | x1             | -          |\n",
    "| Coklat    | 1     | x10            | ±1%        |\n",
    "| Merah     | 2     | x100           | ±2%        |\n",
    "| Oranye    | 3     | x1.000         | -          |\n",
    "| Kuning    | 4     | x10.000        | -          |\n",
    "| Hijau     | 5     | x100.000       | ±0.5%      |\n",
    "| Biru      | 6     | x1.000.000     | ±0.25%     |\n",
    "| Ungu      | 7     | x10.000.000    | ±0.1%      |\n",
    "| Abu-abu   | 8     | -              | ±0.05%     |\n",
    "| Putih     | 9     | -              | -          |\n",
    "| Emas      | -     | x0.1           | ±5%        |\n",
    "| Perak     | -     | x0.01          | ±10%       |"
   ]
  },
  {
   "cell_type": "code",
   "execution_count": 2,
   "metadata": {},
   "outputs": [],
   "source": [
    "kode_warna = {\n",
    "    \"hitam\": 0, \"coklat\": 1, \"merah\": 2, \"oranye\": 3, \"kuning\": 4,\n",
    "    \"hijau\": 5, \"biru\": 6, \"ungu\": 7, \"abu-abu\": 8, \"putih\": 9\n",
    "}\n",
    "\n",
    "pengali = {\n",
    "    \"hitam\": 1, \"coklat\": 10, \"merah\": 100, \"oranye\": 1_000,\n",
    "    \"kuning\": 10_000, \"hijau\": 100_000, \"biru\": 1_000_000,\n",
    "    \"ungu\": 10_000_000, \"emas\": 0.1, \"perak\": 0.01\n",
    "}\n",
    "\n",
    "toleransi = {\n",
    "    \"emas\": \"±5%\", \"perak\": \"±10%\", \"coklat\": \"±1%\", \"merah\": \"±2%\"\n",
    "}"
   ]
  },
  {
   "cell_type": "markdown",
   "metadata": {},
   "source": [
    "# Rumus Perhitungan Nilai Resistor\n",
    "\n",
    "### 1. Resistor 4 Pita\n",
    "$$\n",
    "R = [(D_1 \\times 10) + D_2] \\times M\n",
    "$$\n",
    "$$\n",
    "\\text{Toleransi} = T\n",
    "$$\n",
    "\n",
    "### 2. Resistor 5 Pita\n",
    "$$\n",
    "R = [(D_1 \\times 100) + (D_2 \\times 10) + D_3] \\times M\n",
    "$$\n",
    "$$\n",
    "\\text{Toleransi} = T\n",
    "$$\n",
    "\n",
    "### Keterangan:\n",
    "- \\(D_1, D_2, D_3\\): Digit warna pada pita ke-1, ke-2, dan ke-3.\n",
    "- \\(M\\): Faktor pengali berdasarkan warna pita pengali.\n",
    "- \\(T\\): Toleransi berdasarkan warna pita toleransi.\n",
    "\n",
    "### 3. Contoh Perhitungan (Resistor 4 Pita):\n",
    "- Warna: **Coklat, Hitam, Merah, Emas**\n",
    "  - \\(D_1 = 1\\) (Coklat), \\(D_2 = 0\\) (Hitam), \\(M = 100\\) (Merah), \\(T = \\pm 5\\%\\) (Emas)\n",
    "\n",
    "$$\n",
    "R = [(1 \\times 10) + 0] \\times 100 = 1000 \\, \\Omega\n",
    "$$\n",
    "$$\n",
    "\\text{Toleransi} = \\pm 5\\%\n",
    "$$\n",
    "\n",
    "Hasil akhir:  \n",
    "$$\n",
    "R = 1000 \\, \\Omega \\pm 5\\%\n",
    "$$\n"
   ]
  },
  {
   "cell_type": "code",
   "execution_count": 4,
   "metadata": {},
   "outputs": [],
   "source": [
    "def hitung_nilai_resistor(pita1, pita2, pita3, pita4):\n",
    "    # Validasi input\n",
    "    if pita1 not in kode_warna or pita2 not in kode_warna or pita3 not in pengali or pita4 not in toleransi:\n",
    "        return \"Warna yang dimasukkan tidak valid!\"\n",
    "\n",
    "    # Hitung nilai resistor\n",
    "    digit1 = kode_warna[pita1]\n",
    "    digit2 = kode_warna[pita2]\n",
    "    nilai_pengali = pengali[pita3]\n",
    "    nilai_toleransi = toleransi[pita4]\n",
    "\n",
    "    nilai_resistor = (digit1 * 10 + digit2) * nilai_pengali\n",
    "    return f\"Nilai resistor: {nilai_resistor} Ω {nilai_toleransi}\""
   ]
  }
 ],
 "metadata": {
  "kernelspec": {
   "display_name": ".venv",
   "language": "python",
   "name": "python3"
  },
  "language_info": {
   "codemirror_mode": {
    "name": "ipython",
    "version": 3
   },
   "file_extension": ".py",
   "mimetype": "text/x-python",
   "name": "python",
   "nbconvert_exporter": "python",
   "pygments_lexer": "ipython3",
   "version": "3.12.3"
  }
 },
 "nbformat": 4,
 "nbformat_minor": 2
}
