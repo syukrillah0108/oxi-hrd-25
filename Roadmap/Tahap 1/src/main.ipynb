{
 "cells": [
  {
   "cell_type": "code",
   "execution_count": 3,
   "metadata": {},
   "outputs": [
    {
     "name": "stdout",
     "output_type": "stream",
     "text": [
      "Perulangan for ke-0\n",
      "Perulangan for ke-1\n",
      "Perulangan for ke-2\n",
      "Perulangan for ke-3\n",
      "Perulangan for ke-4\n",
      "\n",
      "\n",
      "Perulangan while ke-0\n",
      "Perulangan while ke-1\n",
      "Perulangan while ke-2\n",
      "Perulangan while ke-3\n",
      "Perulangan while ke-4\n"
     ]
    }
   ],
   "source": [
    "# Perulangan menggunakan for\n",
    "for i in range(5):\n",
    "    print(f\"Perulangan for ke-{i}\")\n",
    "\n",
    "print(\"\\n\")\n",
    "\n",
    "# Perulangan menggunakan while\n",
    "i = 0\n",
    "while i < 5:\n",
    "    print(f\"Perulangan while ke-{i}\")\n",
    "    i += 1"
   ]
  }
 ],
 "metadata": {
  "kernelspec": {
   "display_name": ".venv",
   "language": "python",
   "name": "python3"
  },
  "language_info": {
   "codemirror_mode": {
    "name": "ipython",
    "version": 3
   },
   "file_extension": ".py",
   "mimetype": "text/x-python",
   "name": "python",
   "nbconvert_exporter": "python",
   "pygments_lexer": "ipython3",
   "version": "3.12.3"
  }
 },
 "nbformat": 4,
 "nbformat_minor": 2
}
